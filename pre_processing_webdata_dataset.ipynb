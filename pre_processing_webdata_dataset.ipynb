{
 "cells": [
  {
   "cell_type": "code",
   "execution_count": 10,
   "id": "acc94668",
   "metadata": {
    "cellUniqueIdByVincent": "bccb4"
   },
   "outputs": [
    {
     "name": "stdout",
     "output_type": "stream",
     "text": [
      "                                           product_title   product_price  \\\n",
      "0            2025 Honda WR-V 1.5 RS SUV - (BEST DEAL SP)  Rp 287.000.000   \n",
      "1             2025 Honda WR-V 1.5 E SUV - (BEST DEAL SP)  Rp 267.770.000   \n",
      "2           2021 Honda City 1.5 RS Hatchback - KM 36RIBU  Rp 230.000.000   \n",
      "3             2025 Honda WR-V 1.5 E SUV - (BEST DEAL SP)  Rp 266.700.000   \n",
      "4      2019 Honda Brio 1.2 Satya E Hatchback - , MOBI...  Rp 110.000.000   \n",
      "...                                                  ...             ...   \n",
      "14364  2023 Honda CR-V 1.5 Turbo Prestige SUV - 1,5 P...  Rp 669.600.000   \n",
      "14365        2023 Honda HR-V 1.5 Turbo RS SUV - RS Turbo  Rp 529.900.000   \n",
      "14366  2022 Honda Brio 1.2 Satya E Hatchback - 1,2 E ...  Rp 188.000.000   \n",
      "14367        2023 Honda HR-V 1.5 Turbo RS SUV - RS Turbo  Rp 527.000.000   \n",
      "14368                    2023 Honda BR-V 1.5 E SUV - 1,5  Rp 297.000.000   \n",
      "\n",
      "                                     product_description       brand  \n",
      "0      0 - 5K KMAutomaticJawa BaratDealerDealer terpe...           -  \n",
      "1      0 - 5K KMAutomaticJawa BaratDealerDealer terpe...           -  \n",
      "2      30 - 35K KMAutomaticJawa TimurDealerDealer ter...  Honda City  \n",
      "3      0 - 5K KMAutomaticJawa BaratDealerDealer terpe...           -  \n",
      "4      55 - 60K KMAutomaticDKI JakartaSales AgentDeal...  Honda Brio  \n",
      "...                                                  ...         ...  \n",
      "14364                                                NaN  Honda CR-V  \n",
      "14365                                                NaN  Honda HR-V  \n",
      "14366                                                NaN  Honda Brio  \n",
      "14367            0 - 5K KMAutomaticJawa BaratSales Agent  Honda HR-V  \n",
      "14368                1 KMAutomaticDKI JakartaSales Agent  Honda BR-V  \n",
      "\n",
      "[14369 rows x 4 columns]\n"
     ]
    }
   ],
   "source": [
    "import pandas as pd\n",
    "import re\n",
    "\n",
    "# Load data\n",
    "df = pd.read_excel(\"Webscraping result.xlsx\", sheet_name='in')\n",
    "print(df)"
   ]
  },
  {
   "cell_type": "code",
   "execution_count": 11,
   "id": "3c6f1eb7",
   "metadata": {},
   "outputs": [],
   "source": [
    "# Safely convert product_price to numeric by removing non-digit characters\n",
    "df['product_price'] = df['product_price'].str.replace(r'[^\\d]', '', regex=True)\n",
    "df['product_price'] = df['product_price'].astype(float).astype('Int64')"
   ]
  },
  {
   "cell_type": "code",
   "execution_count": 12,
   "id": "339b2000",
   "metadata": {},
   "outputs": [],
   "source": [
    "df['brand_model'] = df['product_title'].str.extract(r'\\d{4}\\s+(\\w+\\s+[\\w\\-]+)')\n",
    "df['year'] = df['product_title'].str.extract(r'(\\d{4})').astype(float)\n",
    "df['transmission'] = df['product_description'].str.extract(r'(Automatic|Manual)', flags=re.IGNORECASE)"
   ]
  },
  {
   "cell_type": "code",
   "execution_count": 13,
   "id": "ea2afbf2",
   "metadata": {},
   "outputs": [],
   "source": [
    "df['engine_capacity_liters'] = df['product_title'].str.extract(r'\\b(\\d\\.\\d)\\b')"
   ]
  },
  {
   "cell_type": "code",
   "execution_count": 14,
   "id": "b59d45ad",
   "metadata": {},
   "outputs": [],
   "source": [
    "df['engine_capacity_cc'] = (df['engine_capacity_liters'].astype(float) * 1000).astype(int)"
   ]
  },
  {
   "cell_type": "code",
   "execution_count": 15,
   "id": "8185afb1",
   "metadata": {},
   "outputs": [],
   "source": [
    "def extract_body_feature(car_text):\n",
    "    # Regular expression to match the body-feature (everything after the style part)\n",
    "    pattern = r\"^\\d{4} Honda [A-Za-z0-9\\-]+ \\d+\\.\\d(.*)\"\n",
    "    \n",
    "    match = re.match(pattern, car_text)\n",
    "    \n",
    "    if match:\n",
    "        body_feature = match.group(1).strip()  # Everything after the style part\n",
    "        return body_feature\n",
    "    else:\n",
    "        return None  # If pattern does not match\n",
    "\n",
    "# Apply the function to each row and create a new column for Body-Feature\n",
    "df['features'] = df['product_title'].apply(extract_body_feature)"
   ]
  },
  {
   "cell_type": "code",
   "execution_count": 16,
   "id": "2a5091e7",
   "metadata": {},
   "outputs": [],
   "source": [
    "def extract_max_distance(text):\n",
    "    if pd.isna(text):\n",
    "        return None\n",
    "    \n",
    "    text = str(text)\n",
    "\n",
    "    # Case 1: Range format like \"0 - 25K KM\"\n",
    "    range_match = re.search(r'(\\d+)\\s*-\\s*(\\d+)(K)?\\s*KM', text, re.IGNORECASE)\n",
    "    if range_match:\n",
    "        max_val = int(range_match.group(2)) * 1000 if range_match.group(3) else int(range_match.group(2))\n",
    "        return max_val\n",
    "\n",
    "    # Case 2: Single value format like \"6000 KM\" or \"25K KM\"\n",
    "    single_match = re.search(r'(\\d+)(K)?\\s*KM', text, re.IGNORECASE)\n",
    "    if single_match:\n",
    "        return int(single_match.group(1)) * 1000 if single_match.group(2) else int(single_match.group(1))\n",
    "\n",
    "    return None\n",
    "\n",
    "# Apply the function to create new column\n",
    "df['distance_travelled_KM'] = df['product_description'].apply(extract_max_distance)"
   ]
  },
  {
   "cell_type": "code",
   "execution_count": 17,
   "id": "52f8bd81",
   "metadata": {},
   "outputs": [
    {
     "data": {
      "text/plain": [
       "product_title               0\n",
       "product_price               0\n",
       "product_description       542\n",
       "brand                       0\n",
       "brand_model                 0\n",
       "year                        0\n",
       "transmission              542\n",
       "engine_capacity_liters      0\n",
       "engine_capacity_cc          0\n",
       "features                    0\n",
       "distance_travelled_KM     542\n",
       "dtype: int64"
      ]
     },
     "execution_count": 17,
     "metadata": {},
     "output_type": "execute_result"
    }
   ],
   "source": [
    "df.isnull().sum()"
   ]
  },
  {
   "cell_type": "code",
   "execution_count": 18,
   "id": "800b4d08",
   "metadata": {},
   "outputs": [],
   "source": [
    "df.dropna(inplace=True)\n",
    "df[[\"brand_model\", \"year\",  \"transmission\",\"engine_capacity_cc\", \"distance_travelled_KM\",\"features\", \"product_price\"]].to_excel(\"cars_price.xlsx\",index=False)"
   ]
  },
  {
   "cell_type": "code",
   "execution_count": null,
   "id": "e704d985",
   "metadata": {
    "cellUniqueIdByVincent": "aefbd"
   },
   "outputs": [],
   "source": []
  }
 ],
 "metadata": {
  "kernelspec": {
   "display_name": "Python 3 (ipykernel)",
   "language": "python",
   "name": "python3"
  },
  "language_info": {
   "codemirror_mode": {
    "name": "ipython",
    "version": 3
   },
   "file_extension": ".py",
   "mimetype": "text/x-python",
   "name": "python",
   "nbconvert_exporter": "python",
   "pygments_lexer": "ipython3",
   "version": "3.11.5"
  },
  "vincent": {
   "sessionId": "37ed7f46e8c7c7a5f22e05c7_2025-04-21T05-43-32-956Z"
  }
 },
 "nbformat": 4,
 "nbformat_minor": 5
}
